{
 "cells": [
  {
   "cell_type": "code",
   "execution_count": 1,
   "id": "41e03be2-bf86-447c-b933-b64dc03487e1",
   "metadata": {},
   "outputs": [
    {
     "name": "stdout",
     "output_type": "stream",
     "text": [
      "Name of vehicle: Car\n",
      "Maximum speed: 200\n",
      "Average of vehicle: 30\n"
     ]
    }
   ],
   "source": [
    "'''Q1, Create a vehicle class with an init method having instance variables as name_of_vehicle, max_speed\n",
    "and average_of_vehicle.'''\n",
    "\n",
    "class Vehicle:\n",
    "    def __init__(self, name_of_vehicle, max_speed, average_of_vehicle):\n",
    "        self.name_of_vehicle = name_of_vehicle\n",
    "        self.max_speed = max_speed\n",
    "        self.average_of_vehicle = average_of_vehicle\n",
    "\n",
    "# Creating an instance of the Vehicle class\n",
    "car = Vehicle(\"Car\", 200, 30)\n",
    "\n",
    "# Accessing instance variables of the car object\n",
    "print(\"Name of vehicle:\", car.name_of_vehicle)\n",
    "print(\"Maximum speed:\", car.max_speed)\n",
    "print(\"Average of vehicle:\", car.average_of_vehicle)"
   ]
  },
  {
   "cell_type": "code",
   "execution_count": 3,
   "id": "9f1a081d-e768-4e00-9409-62113757754e",
   "metadata": {},
   "outputs": [
    {
     "name": "stdout",
     "output_type": "stream",
     "text": [
      "Name of vehicle: Car\n",
      "Maximum speed: 200\n",
      "Average of vehicle: 30\n",
      "Car has a seating capacity of 5.\n"
     ]
    }
   ],
   "source": [
    "'''Q2. Create a child class car from the vehicle class created in Que 1, which will inherit the vehicle class.\n",
    "Create a method named seating_capacity which takes capacity as an argument and returns the name of\n",
    "the vehicle and its seating capacity.'''\n",
    "class Vehicle:\n",
    "    def __init__(self, name_of_vehicle, max_speed, average_of_vehicle):\n",
    "        self.name_of_vehicle = name_of_vehicle\n",
    "        self.max_speed = max_speed\n",
    "        self.average_of_vehicle = average_of_vehicle\n",
    "\n",
    "class Car(Vehicle):\n",
    "    def seating_capacity(self, capacity):\n",
    "        return f\"{self.name_of_vehicle} has a seating capacity of {capacity}.\"\n",
    "\n",
    "# Creating an instance of the Car class\n",
    "car = Car(\"Car\", 200, 30)\n",
    "\n",
    "# Accessing instance variables of the car object\n",
    "print(\"Name of vehicle:\", car.name_of_vehicle)\n",
    "print(\"Maximum speed:\", car.max_speed)\n",
    "print(\"Average of vehicle:\", car.average_of_vehicle)\n",
    "\n",
    "# Calling the seating_capacity method\n",
    "print(car.seating_capacity(5))"
   ]
  },
  {
   "cell_type": "code",
   "execution_count": 4,
   "id": "b98ff9ba-b886-4178-8a02-7126f92fd459",
   "metadata": {},
   "outputs": [
    {
     "name": "stdout",
     "output_type": "stream",
     "text": [
      "Method from class A\n",
      "Method from class B\n",
      "Method from class C\n"
     ]
    }
   ],
   "source": [
    "'''Q3. What is multiple inheritance? Write a python code to demonstrate multiple inheritance.'''\n",
    "class A:\n",
    "    def method_A(self):\n",
    "        print(\"Method from class A\")\n",
    "\n",
    "# Parent class 2\n",
    "class B:\n",
    "    def method_B(self):\n",
    "        print(\"Method from class B\")\n",
    "\n",
    "\n",
    "class C(A, B):\n",
    "    def method_C(self):\n",
    "        print(\"Method from class C\")\n",
    "\n",
    "\n",
    "obj_C = C()\n",
    "\n",
    "\n",
    "obj_C.method_A()  \n",
    "obj_C.method_B()  \n",
    "obj_C.method_C()  "
   ]
  },
  {
   "cell_type": "code",
   "execution_count": 8,
   "id": "a7243912-9379-4104-a352-d8a4b1499476",
   "metadata": {},
   "outputs": [
    {
     "name": "stdout",
     "output_type": "stream",
     "text": [
      "Length: 5\n",
      "Width: 3\n",
      "Updated Length: 10\n",
      "Updated Width: 8\n"
     ]
    }
   ],
   "source": [
    "'''Q4. What are getter and setter in python? Create a class and create a getter and a setter method in this\n",
    "class.'''\n",
    "class Rectangle:\n",
    "    def __init__(self, length, width):\n",
    "        self._length = length  \n",
    "        self._width = width    \n",
    "\n",
    "    def get_length(self):\n",
    "        return self._length\n",
    "    \n",
    "    def set_length(self, length):\n",
    "        if length > 0:\n",
    "            self._length = length\n",
    "        else:\n",
    "            print(\"Length should be greater than 0.\")\n",
    "\n",
    "   \n",
    "    def get_width(self):\n",
    "        return self._width\n",
    "\n",
    "  \n",
    "    def set_width(self, width):\n",
    "        if width > 0:\n",
    "            self._width = width\n",
    "        else:\n",
    "            print(\"Width should be greater than 0.\")\n",
    "\n",
    "\n",
    "rectangle = Rectangle(5, 3)\n",
    "\n",
    "print(\"Length:\", rectangle.get_length())  \n",
    "print(\"Width:\", rectangle.get_width())   \n",
    "\n",
    "\n",
    "rectangle.set_length(10)\n",
    "rectangle.set_width(8)\n",
    "\n",
    "\n",
    "print(\"Updated Length:\", rectangle.get_length()) \n",
    "print(\"Updated Width:\", rectangle.get_width()) "
   ]
  },
  {
   "cell_type": "code",
   "execution_count": 11,
   "id": "55d438c6-76ee-4b05-a5e3-7ab8b32117b2",
   "metadata": {},
   "outputs": [
    {
     "name": "stdout",
     "output_type": "stream",
     "text": [
      "Dog barks\n",
      "Cat meows\n"
     ]
    }
   ],
   "source": [
    "'''Q5.What is method overriding in python? Write a python code to demonstrate method overriding.'''\n",
    "class Animal:\n",
    "    def make_sound(self):\n",
    "        print(\"Animal makes a sound\")\n",
    "\n",
    "# Child class inheriting from Animal\n",
    "class Dog(Animal):\n",
    "    # Method overriding\n",
    "    def make_sound(self):\n",
    "        print(\"Dog barks\")\n",
    "\n",
    "# Child class inheriting from Animal\n",
    "class Cat(Animal):\n",
    "    # Method overriding\n",
    "    def make_sound(self):\n",
    "        print(\"Cat meows\")\n",
    "\n",
    "# Creating instances of Dog and Cat classes\n",
    "dog = Dog()\n",
    "cat = Cat()\n",
    "\n",
    "# Calling make_sound method of Dog and Cat\n",
    "dog.make_sound()  # Output: Dog barks\n",
    "cat.make_sound() "
   ]
  },
  {
   "cell_type": "code",
   "execution_count": null,
   "id": "f6c96050-06e4-4aae-8184-4a5e23c86bd3",
   "metadata": {},
   "outputs": [],
   "source": []
  }
 ],
 "metadata": {
  "kernelspec": {
   "display_name": "Python 3 (ipykernel)",
   "language": "python",
   "name": "python3"
  },
  "language_info": {
   "codemirror_mode": {
    "name": "ipython",
    "version": 3
   },
   "file_extension": ".py",
   "mimetype": "text/x-python",
   "name": "python",
   "nbconvert_exporter": "python",
   "pygments_lexer": "ipython3",
   "version": "3.10.8"
  }
 },
 "nbformat": 4,
 "nbformat_minor": 5
}
